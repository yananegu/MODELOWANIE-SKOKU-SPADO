{
 "cells": [
  {
   "cell_type": "markdown",
   "metadata": {},
   "source": [
    "---\n",
    "# Modelowanie skoka spadochroniarza\n",
    "\n",
    "*Dzmitry Pihulski, Yana Negulescu* <br />\n",
    "*15 stycznia, 2023*\n",
    "---"
   ]
  },
  {
   "cell_type": "markdown",
   "metadata": {},
   "source": [
    "## Spis treści:\n",
    "\n",
    "1. Wstęp\n",
    "2. Sformułowanie modelu matematycznego i jego opis\n",
    "3. Obliczenia i analiza wyników\n",
    "    - Schemat Eulera, wykres prędkości\n",
    "    - Rozwiązanie równania różniczkowego w sposób zwyczajny, funkcja i wykres na prędkość spadochroniarza\n",
    "    - Funkcja i wykres na długość spadochroniarza\n",
    "    - Funkcja Everything about flight\n",
    "4. Podsumowanie\n",
    "5. Literatura\n"
   ]
  },
  {
   "cell_type": "markdown",
   "metadata": {},
   "source": [
    "---\n",
    "### 1. Wstęp"
   ]
  },
  {
   "cell_type": "markdown",
   "metadata": {},
   "source": [
    "Pierwszy skok ze spadochronem został wykonany 22 października 1797 roku nad Parc Monceau w Paryżu. Francuz Andre-Jacques Garnerin skoczył z balonu na wysokości 680 metrów. Jednak jeszcze za dużo lat do tego ludzie, codziennie obserwując ptaków, byli zainteresowani możliwością lotu. Starożytne pisma mówią, że w wielu krajach ludzie próbowali skokać z wież, drzew, skał za pomocą różnych urządzeń podobnych do parasoli. Często takie skoki kończyły się traumą, a nawet śmiercią, ponieważ nikt jeszcze nie odkrył praw oporu powietrza.\n",
    "\n",
    "W naszym projekcie będziemy symulować skok ze spadochronem. Symulacja skoku zwykle polega na wykorzystaniu modeli matematycznych i symulacji komputerowych do badania dynamiki skoka spadochroniarza. Ten rodzaj badań można wykorzystać do leprzego zrozumienia aerodynamiki skoków, wpływu różnych pozycji ciała i konstrukcji spadochronu. Wyniki symulacji mogą pomóc profesjonalistom w podejmowaniu lepszych decyzji i zwiększyć bezpieczeństwo spadochroniarzy. Naszym celem będzie wyprowadzenie równania różniczkowego opisującego skok, rozwiązanie tego równania, z którego powstaje równanie prędkości, a następnie wyprowadzenie równania na długość skoku i analiza wyników."
   ]
  },
  {
   "cell_type": "markdown",
   "metadata": {},
   "source": [
    "---\n",
    "### 2. Sformułowanie modelu matematycznego i jego opis"
   ]
  },
  {
   "cell_type": "markdown",
   "metadata": {},
   "source": [
    "Kiedy ciało porusza się w ośrodku gazowym lub ciekłym, tarcie ma wielki wpływ na charakter ruchu. Przedmiot spadający z dużej wysokości nie porusza się z przyspieszeniem jednostajnym, ponieważ wraz ze wzrostem prędkości rośnie siła oporu środowiska.\n",
    "\n",
    "Nasz model rozpatruje spadochroniarza o masie $\\normalsize m = 100\\, kg$, spadającego w powietrzu o gęstości $\\normalsize \\rho = 1,29 \\,\\frac{kg}{m^3}$, ze spadochronem rodzaju D6, którego promień wynosi $\\normalsize r = 1,29\\,m$.<br /> \n",
    "\n",
    "Na człowieka działają trzy siły:\n",
    "\n",
    "1. Siła grawitacji: $$\\normalsize F = mg$$ <br />\n",
    "\n",
    "2. Siła oporu środowiska dla małych prędkości. Przy stosunkowo małych prędkościach wartość siły oporu jest proporcjonalna do prędkości i zachodzi zależność:  $$\\normalsize F_1 = k_1\\upsilon$$ <br /> \n",
    "\n",
    "\n",
    "3. Siła oporu wiatru. Przy znacznie mniejszych prędkościach siła oporu staje się proporcjonalna do kwadratu prędkości: $$\\normalsize F_2 = k_2\\upsilon^2$$ <br />"
   ]
  },
  {
   "cell_type": "markdown",
   "metadata": {},
   "source": [
    "\n",
    "</p><p align=\"center\">\n",
    "<img src=\"Рисунок1.png\" style=\"width:20%; border:0;\">\n",
    "</p>"
   ]
  },
  {
   "cell_type": "markdown",
   "metadata": {},
   "source": [
    "Z tego tworzymy równanie zgodnie z drugą zasadą Newtona: <br />\n",
    "\n",
    "$$\\large ma = -k_2\\upsilon^2 -k_1\\upsilon + mg$$ <br />\n",
    "Gdzie:\n",
    "- $\\normalsize a$ – przyśpieszenie ciała, $\\dfrac{m}{s^2}$, \n",
    "\n",
    "- $\\normalsize m$ – masa ciała, $\\normalsize kg$,\n",
    "- $\\normalsize g$ – przyśpieszenie grawitacyjne, $\\normalsize g = 9,815 \\,\\dfrac{m}{s^2}$,\n",
    "- $\\normalsize \\upsilon$ – prękość ciała, $\\normalsize \\dfrac{m}{s}$,\n",
    "- $\\normalsize k_1$ – zależy od właściwości środowiska i kształtu ciała: $\\normalsize k_1 = 6\\pi\\mu r$ ($\\normalsize\\mu$ – lepkość dynamiczna środowiska. Przyjmiemy że $\\tau = 20\\,°С$ i $P = 1\\, atm.$ wtedy $\\mu = 0,0182 \\,\\frac{Ns}{м^2}$)<br />\n",
    "\n",
    "- $\\normalsize k_2$ - jest proporcjonalna do największego pola przekroju ciała $\\normalsize S$, względem przepływu powietrza, oraz do gęstości środowiska $\\normalsize\\rho$ i zależy od kształtu ciała: $\\normalsize k_2 = \\frac{1}{2}c\\rho S$ ($\\normalsize c$ – współczynnik oporu powietrza – bezwymiarowy, przyjmujemy $c = 0,9$)<br />\n",
    "\n",
    "**Druga zasada Newtona** to różniczkowa zasada ruchu mechanicznego, która opisuje zależność przyspieszenia ciała od wypadkowej wszystkich sił działających na to ciało i masy ciała. <br />\n",
    "\n",
    ">W inercjalnym układzie odniesienia jeśli siły działające na ciało nie równoważą się (czyli wypadkowa sił jest różna od zera), to ciało porusza się z przyspieszeniem wprost proporcjonalnym do siły wypadkowej, a odwrotnie proporcjonalnym do masy ciała.\n"
   ]
  },
  {
   "cell_type": "markdown",
   "metadata": {},
   "source": [
    "Teraz możemy otrzymać równanie różniczkowe: $$\\large\\dfrac{d\\upsilon}{dt} = \\dfrac{-k_2\\upsilon^2-k_1\\upsilon + mg}{m}$$"
   ]
  },
  {
   "cell_type": "markdown",
   "metadata": {},
   "source": [
    "---\n",
    "### 3. Obliczenia i analiza wyników"
   ]
  },
  {
   "cell_type": "markdown",
   "metadata": {},
   "source": [
    "#### 3.1 Schemat Eulera, wykres prękości"
   ]
  },
  {
   "cell_type": "markdown",
   "metadata": {},
   "source": [
    "Najpierw skorzystamy ze schematu Eulera. "
   ]
  },
  {
   "cell_type": "markdown",
   "metadata": {},
   "source": [
    "Implementacja biblioteki:"
   ]
  },
  {
   "cell_type": "code",
   "execution_count": 57,
   "metadata": {},
   "outputs": [],
   "source": [
    "import math\n",
    "import numpy as np\n",
    "import sympy as smp\n",
    "import scipy as sp\n",
    "from scipy.integrate import quad\n",
    "from scipy.integrate import cumulative_trapezoid\n",
    "import matplotlib.pyplot as plt\n",
    "import scipy.optimize"
   ]
  },
  {
   "cell_type": "markdown",
   "metadata": {},
   "source": [
    "Zapisujemy wszystkie nasze wartości, definiujemy funkcję pochodnej i robimy wykres prędkośi z otrzymanych wyników."
   ]
  },
  {
   "cell_type": "code",
   "execution_count": 58,
   "metadata": {},
   "outputs": [
    {
     "data": {
      "image/png": "[encoded data removed]",
      "text/plain": [
       "<Figure size 432x288 with 1 Axes>"
      ]
     },
     "metadata": {
      "needs_background": "light"
     },
     "output_type": "display_data"
    },
    {
     "data": {
      "text/plain": [
       "<Figure size 432x288 with 0 Axes>"
      ]
     },
     "metadata": {},
     "output_type": "display_data"
    }
   ],
   "source": [
    "#Wartości\n",
    "m=100.0\n",
    "g=9.815\n",
    "v0=50.0\n",
    "k1=6*math.pi*0.0182*5.17\n",
    "k2=0.5*0.9*math.pi*(5.17**2)*1.29\n",
    "\n",
    "#Funkcja pochodnej\n",
    "def dv(v):\n",
    "    return (m*g-k1*v-k2*(v**2))/m\n",
    "\n",
    "#Schemat Eulera\n",
    "t=np.arange(0, 10, 0.01)\n",
    "y=[]\n",
    "y.append(v0)\n",
    "for i in range(len(t)-1):\n",
    "    h=t[i+1]-t[i]\n",
    "    nexty=y[i]+h*dv(y[i])\n",
    "    y.append(nexty)\n",
    "\n",
    "#Wykres prędkości\n",
    "plt.plot(t, y)\n",
    "plt.title('Wykres v(t) metodą Eulera')\n",
    "plt.xlabel('t, s')\n",
    "plt.ylabel('V, m/s')\n",
    "plt.show()\n",
    "plt.savefig('Wykres_v_Euler.png')"
   ]
  },
  {
   "cell_type": "markdown",
   "metadata": {},
   "source": [
    "---\n",
    "#### 3.2 Rozwiązanie równania różniczkowego w sposób zwyczajny, funkcja i wykres na prękość spadochroniarza"
   ]
  },
  {
   "cell_type": "markdown",
   "metadata": {},
   "source": [
    "Będziemy ręcznie rozwiązywać równanie rózniczkowe: $$\\normalsize\\dfrac{\\mathrm{d}\\upsilon}{\\mathrm{d}t} = \\dfrac{-k_2\\upsilon^2-k_1\\upsilon + mg}{m}$$"
   ]
  },
  {
   "cell_type": "markdown",
   "metadata": {},
   "source": [
    "Zcałkujemy to równanie: $$\\normalsize\\displaystyle\\int\\dfrac{\\mathrm{d}\\upsilon}{-\\frac{k_2\\upsilon^2}{m}-\\frac{k_1\\upsilon}{m}+g} = \\int \\mathrm{d}t$$  <br />"
   ]
  },
  {
   "cell_type": "markdown",
   "metadata": {},
   "source": [
    "Wyciągamy $-\\dfrac{m}{k_2}$: $$-\\dfrac{m}{k_2}\\displaystyle\\int\\dfrac{\\mathrm{d}\\upsilon}{(\\upsilon + \\dfrac{k_1}{2k_2})^2-\\dfrac{k_1^2+ 4mgk_2}{4k_2}} = \\int \\mathrm{d}t$$  <br />"
   ]
  },
  {
   "cell_type": "markdown",
   "metadata": {},
   "source": [
    "Po obliczeniach mamy: $$\\dfrac{m}{\\sqrt{k_1^2 + 4mgk_2}} \\; \\ln \\dfrac{\\dfrac{\\sqrt{k_1^2 + 4mgk_2}}{2k_2}+\\upsilon\n",
    "+\\dfrac{k_1}{2k_2}}{\\dfrac{\\sqrt{k_1^2 + 4mgk_2}}{2k_2}-\\upsilon-\\dfrac{k_1}{2k_2}} = t + C$$  "
   ]
  },
  {
   "cell_type": "markdown",
   "metadata": {},
   "source": [
    "Gdzie $C$ wynosi: $$C = \\ln \\dfrac{\\sqrt{k_1^2 + 4mgk_2}+k_1+2k_2\\upsilon}{\\sqrt{k_1^2 + 4mgk_2} - k_1-2k_2\\upsilon}$$"
   ]
  },
  {
   "cell_type": "markdown",
   "metadata": {},
   "source": [
    "Wtedy: $$\\large\\upsilon(t) = \\dfrac{\\sqrt{k_1^2 + 4mgk_2}\\:e^\\frac{\\sqrt{k_1^2 + 4mgk_2}\\:t}{m}\\:e^c-k_1\\:e^\\frac{\\sqrt{k_1^2 + 4mgk_2}\\:t}{m}\\:e^c-\\sqrt{k_1^2 + 4mgk_2}-k_1}{2k_2 + 2k_2 e^\\frac{\\sqrt{k_1^2 + 4mgk_2}t}{m}e^c}$$"
   ]
  },
  {
   "cell_type": "markdown",
   "metadata": {},
   "source": [
    "Teraz to równanie zapisujemy w kod i robimy wykres:"
   ]
  },
  {
   "cell_type": "code",
   "execution_count": 59,
   "metadata": {},
   "outputs": [
    {
     "data": {
      "image/png": "[encoded data removed]",
      "text/plain": [
       "<Figure size 432x288 with 1 Axes>"
      ]
     },
     "metadata": {
      "needs_background": "light"
     },
     "output_type": "display_data"
    },
    {
     "data": {
      "text/plain": [
       "<Figure size 432x288 with 0 Axes>"
      ]
     },
     "metadata": {},
     "output_type": "display_data"
    }
   ],
   "source": [
    "#Funkcja prędkości\n",
    "def v(t):\n",
    "    answear=((math.sqrt(k1**2+4*m*g*k2))*math.exp(((math.sqrt(k1**2+4*m*g*k2))*t)/m)*(((math.sqrt(k1**2+4*m*g*k2))+k1+2*k2*v0)**2/((math.sqrt(k1**2+4*m*g*k2))**2-(k1+2*k2*v0)**2))-k1*math.exp(((math.sqrt(k1**2+4*m*g*k2))*t)/m)*(((math.sqrt(k1**2+4*m*g*k2))+k1+2*k2*v0)**2/((math.sqrt(k1**2+4*m*g*k2))**2-(k1+2*k2*v0)**2))-(math.sqrt(k1**2+4*m*g*k2))-k1)/(2*k2+2*k2*math.exp(((math.sqrt(k1**2+4*m*g*k2))*t)/m)*(((math.sqrt(k1**2+4*m*g*k2))+k1+2*k2*v0)**2/((math.sqrt(k1**2+4*m*g*k2))**2-(k1+2*k2*v0)**2)))\n",
    "    return answear\n",
    "\n",
    "#Wykres\n",
    "t = np.arange(0, 10, 0.1)\n",
    "list=[]\n",
    "for i in range(len(t)):\n",
    "    list.append(v(t[i]))\n",
    "plt.plot(t, list)\n",
    "plt.title('Wykres v(t), naszę rozwiązanie')\n",
    "plt.xlabel('t, s')\n",
    "plt.ylabel('V, m/s')\n",
    "plt.show()\n",
    "plt.savefig('Wykres_v.png')\n",
    "\n"
   ]
  },
  {
   "cell_type": "markdown",
   "metadata": {},
   "source": [
    "---\n",
    "Zauważmy, że na tym wykresie, jak i na wykresie otrzymanym za pomocą schematu Eulera, w pewnym momencie prędkość przestaje rosnąć i nie zmiania się do końca lotu. Wynika to z faktu, że ze zwiększeniem oporu rosnącym wraz z prędkością, w pewnym momencie siła oporu zrówna się z siłą grawitacji, po czym prędkość przestanie rosnąć. Od tego momentu, $\\dfrac{\\mathrm{d}\\upsilon}{\\mathrm{d}t} = 0$, wtedy tą ustaloną prędkość $\\normalsize\\tilde\\upsilon$ jestesmy w stanie policzyć rozwiązując nie równanie różniczkowe, ale kwadratowe: $$\\normalsize -k_2\\upsilon^2-k_1\\upsilon+mg = 0$$"
   ]
  },
  {
   "cell_type": "markdown",
   "metadata": {},
   "source": [
    "Delta wynosi: $$\\normalsize \\Delta = k_1^2 + 4k_2mg$$"
   ]
  },
  {
   "cell_type": "markdown",
   "metadata": {},
   "source": [
    "Wtedy: $$\\normalsize\\tilde\\upsilon = \\sqrt{\\dfrac{k_1^2}{4k_2^2}+\\dfrac{mg}{k_2}}-\\dfrac{k_1}{2k_2} = 4,469 \\,\\dfrac{m}{s}$$"
   ]
  },
  {
   "cell_type": "markdown",
   "metadata": {},
   "source": [
    "Możemy zobaczyć na wykresach, że moment ustalenia prędkości $\\normalsize\\tilde\\upsilon$ następuje zgodnie z naszymi obliczeniami. Dzieje się to właśnie w moment otwarcia spadochronu. Z powodu gwałtownego zatrzymania wzrostu prędkości, spadochroniarz przeżywa silne pchnięcie.\n",
    "\n",
    "<br /> Zauważmy też, że w naszym przypadku, korzystanie ze schematu Eulera było znacznie szybsze."
   ]
  },
  {
   "cell_type": "markdown",
   "metadata": {},
   "source": [
    "---\n",
    "#### 3.3 Funkcja i wykres na długość spadochroniarza"
   ]
  },
  {
   "cell_type": "markdown",
   "metadata": {},
   "source": [
    "Aby znaleźć równanie długości, musimy scałkować równanie prędkości. <br />W tym celu wykorzystaliśmy bibliotekę sympy, która na końcu przedstawia nam gotowe równanie długości. <br /> Zdefiniowaliśmy naszy wartości i funkcję prędkości ponownie. Ale dla wygodności przyjmiemy teraz nową stałą $\\normalsize a = \\sqrt{k_1^2 +4mgk_2}$. Możemy zobaczyć na poprzednich wzorach, że ten wyraz występował już wiele raz."
   ]
  },
  {
   "cell_type": "code",
   "execution_count": 60,
   "metadata": {},
   "outputs": [
    {
     "name": "stdout",
     "output_type": "stream",
     "text": [
      "S(t) = \n"
     ]
    },
    {
     "data": {
      "text/latex": [
       "$\\displaystyle \\frac{m \\log{\\left(e^{\\frac{a t}{m}} + \\frac{1}{const} \\right)}}{k_{2}} + \\frac{t \\left(- a - k_{1}\\right)}{2 k_{2}}$"
      ],
      "text/plain": [
       "m*log(exp(a*t/m) + 1/const)/k2 + t*(-a - k1)/(2*k2)"
      ]
     },
     "execution_count": 60,
     "metadata": {},
     "output_type": "execute_result"
    }
   ],
   "source": [
    "#Definiujemy constanty i v(t)\n",
    "k1=6*smp.pi*0.0182*5.17\n",
    "k2=0.5*0.9*smp.pi*(5.17**2)*1.29\n",
    "m=100\n",
    "g=9.815\n",
    "a=(smp.sqrt(k1**2+4*m*g*k2))\n",
    "v0=50\n",
    "const=((a+k1+2*k2*v0)**2/(a**2-(k1+2*k2*v0)**2))\n",
    "k1=smp.symbols('k1', real=True, positive=True)\n",
    "k2=smp.symbols('k2', real=True, positive=True)\n",
    "m=smp.symbols('m', real=True, positive=True)\n",
    "g=smp.symbols('g', real=True, positive=True)\n",
    "t=smp.symbols('t', real=True)\n",
    "a=smp.symbols('a', real=True, positive=True)\n",
    "const=smp.symbols('const', real=True, positive=True)\n",
    "\n",
    "def v(t):\n",
    "    answear=(a*smp.exp((a*t)/m)*const-k1*smp.exp((a*t)/m)*const-a-k1)/(2*k2+2*k2*smp.exp((a*t)/m)*const)\n",
    "    return answear\n",
    "\n",
    "print(\"S(t) = \") \n",
    "\n",
    "#Całkowanie(wzór na długość)\n",
    "smp.integrate(v(t),t)"
   ]
  },
  {
   "cell_type": "markdown",
   "metadata": {},
   "source": [
    "---\n",
    "Teraz, żeby otrzymać wykres prędkości wracamy do biblioteki math, definiujemy wartości i funkcję długości."
   ]
  },
  {
   "cell_type": "code",
   "execution_count": 61,
   "metadata": {},
   "outputs": [],
   "source": [
    "#Wartości\n",
    "m=100.0\n",
    "g=9.815\n",
    "v0=50.0\n",
    "k1=6*math.pi*0.0182*5.17\n",
    "k2=0.5*0.9*math.pi*(5.17**2)*1.29\n",
    "const=((a+k1+2*k2*v0)**2/(a**2-(k1+2*k2*v0)**2))"
   ]
  },
  {
   "cell_type": "code",
   "execution_count": 62,
   "metadata": {
    "scrolled": true
   },
   "outputs": [
    {
     "data": {
      "image/png": "[encoded data removed]",
      "text/plain": [
       "<Figure size 432x288 with 1 Axes>"
      ]
     },
     "metadata": {
      "needs_background": "light"
     },
     "output_type": "display_data"
    },
    {
     "data": {
      "text/plain": [
       "<Figure size 432x288 with 0 Axes>"
      ]
     },
     "metadata": {},
     "output_type": "display_data"
    }
   ],
   "source": [
    "#Funkcja długości\n",
    "def S(t):\n",
    "    answear=(((m*math.log(math.exp(((math.sqrt(k1**2+4*m*g*k2))*t)/(m))+(1)/((((math.sqrt(k1**2+4*m*g*k2))+k1+2*k2*v0)**2/((math.sqrt(k1**2+4*m*g*k2))**2-(k1+2*k2*v0)**2)))))/(k2))+((t*(-(math.sqrt(k1**2+4*m*g*k2))-k1))/(2*k2)))\n",
    "    return answear\n",
    "\n",
    "#Wykres\n",
    "t = np.arange(0, 10, 0.1)\n",
    "list=[]\n",
    "for i in range(len(t)):\n",
    "    list.append(S(t[i]))\n",
    "plt.plot(t, list)\n",
    "plt.title('Wykres S(t), naszę rozwiązanie')\n",
    "plt.xlabel('t, s')\n",
    "plt.ylabel('S, m')\n",
    "plt.show()\n",
    "plt.savefig('Wykres_S.png')"
   ]
  },
  {
   "cell_type": "markdown",
   "metadata": {},
   "source": [
    "---\n",
    "Na początku wykresu możemy zobaczyć tą zmianę prędkości, którą już policzyliśmy. To oznacza, że do otwierania spadochronu długość zmienia się kwadratowo, a potem już liniowo."
   ]
  },
  {
   "cell_type": "markdown",
   "metadata": {},
   "source": [
    "---\n",
    "#### 3.4 Funkcja Everything about flight"
   ]
  },
  {
   "cell_type": "markdown",
   "metadata": {},
   "source": [
    "Na koniec zrobiliśmy funkcję, za pomocą naszych badań w tym temacie, która może policzyć wszystkie wyniki skoku ze spadochronem oraz zrobi wykresy."
   ]
  },
  {
   "cell_type": "code",
   "execution_count": 63,
   "metadata": {},
   "outputs": [],
   "source": [
    "def everythingaboutflight(c,r,ρ,μ,S,m,g,h0,v0,t1):\n",
    "    ##Deklaracja parametrów:\n",
    "    if c==-1:\n",
    "        c=0.9\n",
    "        print('Program bierze domyślną wartość dla c, skoro nie została podana, czyli', c)\n",
    "    if r==-1:\n",
    "        r=5.17\n",
    "        print('Program bierze domyślną wartość dla r, skoro nie została podana, czyli', r)\n",
    "    if ρ==-1:\n",
    "        ρ=1.29\n",
    "        print('Program bierze domyślną wartość dla ρ, skoro nie została podana, czyli', ρ)\n",
    "    if μ==-1:\n",
    "        μ=0.0182\n",
    "        print('Program bierze domyślną wartość dla μ, skoro nie została podana, czyli', μ)\n",
    "    if S==-1:\n",
    "        S=3.14*(r**2)\n",
    "        print('Program bierze domyślną wartość dla S, skoro nie została podana, czyli pole koła dla promienia r', S)\n",
    "    if m==-1:\n",
    "        m=100\n",
    "        print('Program bierze domyślną wartość dla m, skoro nie została podana, czyli', m)\n",
    "    if g==-1:\n",
    "        g=9.815\n",
    "        print('Program bierze domyślną wartość dla g, skoro nie została podana, czyli', g)\n",
    "    if h0==-1:\n",
    "        h0=1000\n",
    "        print('Program bierze domyślną wartość dla h0, skoro nie została podana, czyli', h0)\n",
    "    if v0==-1:\n",
    "        v0=0\n",
    "        print('Program bierze domyślną wartość dla v0, skoro nie została podana, czyli', v0)\n",
    "    if t1==-1:\n",
    "        t1=10\n",
    "        print('Program bierze domyślną wartość dla t1, skoro nie została podana, czyli', t1)\n",
    "\n",
    "\n",
    "    ##Wzór na prędkość przed otwarciem spadoschronu\n",
    "    def vpred(t):\n",
    "        return v0+g*t\n",
    "\n",
    "    ##Wzór na położenie przed otwarciem spadoschronu:\n",
    "    def hprzed(t):\n",
    "        return h0-v0*t-(g*(t**2)/2)\n",
    "\n",
    "    ##Wzór na prędkość po otwarciu spadoschronu\n",
    "    def vpo(t):\n",
    "        answear=(a*math.exp((a*(t-t1))/m)*const-k1*math.exp((a*(t-t1))/m)*const-a-k1)/(2*k2+2*k2*math.exp((a*(t-t1))/m)*const)\n",
    "        return answear\n",
    "\n",
    "    ##Wzór na połóżenie po otwarciu spadoschronu\n",
    "    def hpo(t):\n",
    "        h=hprzed(t1)-(((m*math.log(abs(math.exp((a*t)/(m))+(1)/(const))))/(k2))+((t*(-a-k1))/(2*k2)))\n",
    "        return h\n",
    "\n",
    "    h1=h0-(g*(t1**2)/2)## wysokość na której otworzyliśmy spadoschron\n",
    "    k1=6*math.pi*μ*r\n",
    "    k2=0.5*c*S*ρ\n",
    "    a=(math.sqrt(abs(k1**2+4*m*g*k2)))\n",
    "    v1=vpred(t1)\n",
    "    const=((a+k1+2*k2*v1)**2/(a**2-(k1+2*k2*v1)**2))\n",
    "\n",
    "\n",
    "    ##Może za długo otwieraliśmy spadoschron? Sprawdźmy!\n",
    "    if h1<=0:\n",
    "        print('Za długo otwierałeś spadoschron. Już Ziemia')\n",
    "\n",
    "    tkoncowe=scipy.optimize.fsolve(hpo, t1)[0]\n",
    "    \n",
    "\n",
    "    ##Wykres prędkości\n",
    "    tprzed = np.arange(0, t1, 0.1)\n",
    "    tpo=np.arange(t1, tkoncowe,0.1)\n",
    "    listwynikówprzed=[]\n",
    "    listawynikówpo=[]    \n",
    "    for i in range(len(tprzed)):\n",
    "        listwynikówprzed.append(vpred(tprzed[i]))\n",
    "    for i in range(len(tpo)):\n",
    "        listawynikówpo.append(vpo(tpo[i]))\n",
    "    plt.plot(tprzed, listwynikówprzed)\n",
    "    plt.plot(tpo, listawynikówpo)\n",
    "    plt.title('Wykres v(t)', fontdict={'fontname': 'monospace', 'fontsize': 18})\n",
    "    plt.xlabel('Czas w sekundach')\n",
    "    plt.ylabel('Prędkość w m/s')\n",
    "    plt.show()\n",
    "    print('Jeżeli otwieramy spadoschron w t = ',t1,'. To cały czas lotu wynosi t = ',tkoncowe)\n",
    "    print('Maksymalna prędkość pod czas lotu wynosi ',v1, 'Prędkość pod czas otwarciu spadoschronu wynosi',v1-vpo(tkoncowe), 'Prędkość z którą łądujemy się wynosi', vpo(tkoncowe))\n",
    "\n",
    "    ##Wykres położenia\n",
    "    tprzed = np.arange(0, t1+0.5, 0.1)\n",
    "    tpo=np.arange(t1, tkoncowe,0.1)\n",
    "    list1=[]\n",
    "    list2=[]    \n",
    "    for i in range(len(tprzed)):\n",
    "        list1.append(hprzed(tprzed[i]))\n",
    "    for i in range(len(tpo)):\n",
    "        list2.append(hpo(tpo[i]))\n",
    "    plt.plot(tprzed, list1)\n",
    "    plt.plot(tpo, list2)\n",
    "    plt.title('Wykres h(t)', fontdict={'fontname': 'monospace', 'fontsize': 18})\n",
    "    plt.show()\n",
    "    print('Długość lotu po otwarciu spadochronu wynosi ', h0-hprzed(t1))"
   ]
  },
  {
   "cell_type": "markdown",
   "metadata": {},
   "source": [
    "---\n",
    "Poniżej można zdefiniować wartości, o jakich mówiliśmy w rozdziale drugim, i otrzymać:\n",
    "- wykres prędkości do i po otwarciu spadochronu\n",
    "- czas lotu spadochroniarza\n",
    "- maksymalną prędkość podczas lotu\n",
    "- prędkość podczas otwarcia spadochronu\n",
    "- prędkość łądowania\n",
    "- wykres długości do i po otwarciu spadochronu\n",
    "- długość lota po otwarciu spadochronu\n"
   ]
  },
  {
   "cell_type": "markdown",
   "metadata": {},
   "source": [
    "Wartości można wprowadzić poniżej w kolejności: <br />\n",
    "\n",
    "$(c,\\, r,\\, ρ,\\, μ,\\, S,\\, m,\\, g,\\, h_0,\\, v_0,\\, t_1)$ <br />\n",
    "\n",
    "Jeżeli wartości podane jako $-1$, program bierze domyślne wartości."
   ]
  },
  {
   "cell_type": "code",
   "execution_count": 65,
   "metadata": {
    "scrolled": false
   },
   "outputs": [
    {
     "name": "stdout",
     "output_type": "stream",
     "text": [
      "Program bierze domyślną wartość dla c, skoro nie została podana, czyli 0.9\n",
      "Program bierze domyślną wartość dla r, skoro nie została podana, czyli 5.17\n",
      "Program bierze domyślną wartość dla ρ, skoro nie została podana, czyli 1.29\n",
      "Program bierze domyślną wartość dla μ, skoro nie została podana, czyli 0.0182\n",
      "Program bierze domyślną wartość dla S, skoro nie została podana, czyli pole koła dla promienia r 83.928746\n",
      "Program bierze domyślną wartość dla g, skoro nie została podana, czyli 9.815\n",
      "Program bierze domyślną wartość dla v0, skoro nie została podana, czyli 0\n"
     ]
    },
    {
     "data": {
      "image/png": "[encoded data removed]",
      "text/plain": [
       "<Figure size 432x288 with 1 Axes>"
      ]
     },
     "metadata": {
      "needs_background": "light"
     },
     "output_type": "display_data"
    },
    {
     "name": "stdout",
     "output_type": "stream",
     "text": [
      "Jeżeli otwieramy spadoschron w t =  10 . To cały czas lotu wynosi t =  120.10956732290501\n",
      "Maksymalna prędkość pod czas lotu wynosi  98.14999999999999 Prędkość pod czas otwarciu spadoschronu wynosi 93.91012126801753 Prędkość z którą łądujemy się wynosi 4.239878731982457\n"
     ]
    },
    {
     "data": {
      "image/png": "[encoded data removed]",
      "text/plain": [
       "<Figure size 432x288 with 1 Axes>"
      ]
     },
     "metadata": {
      "needs_background": "light"
     },
     "output_type": "display_data"
    },
    {
     "name": "stdout",
     "output_type": "stream",
     "text": [
      "Długość lotu po otwarciu spadochronu wynosi  490.75\n"
     ]
    }
   ],
   "source": [
    "everythingaboutflight(-1,-1,-1,-1,-1,90,-1,1000,-1,10)"
   ]
  },
  {
   "cell_type": "markdown",
   "metadata": {},
   "source": [
    "---\n",
    "### 4. Podsumowanie"
   ]
  },
  {
   "cell_type": "markdown",
   "metadata": {},
   "source": [
    "W naszym projekcie stworzyliśmy model skoku spadochroniarza, który nie jest do końca idealny, ale ma szansę na istnienie. Dowiedzieliśmy się, jak i dlaczego zmienia się prędkość i ruch spadochroniarza. Sprawdziliśmy również, że metoda Eulera ułatwia nam pracę z równaniami różniczkowymi. W dalszych badaniach można udoskonalić model, dodając do niego jeszcze jedną oś, poziomą.  Bo w naszym modelu opieraliśmy się tylko na siły działające na spadochroniarza pionowo."
   ]
  },
  {
   "cell_type": "markdown",
   "metadata": {},
   "source": [
    "---\n",
    "### 5. Literatura"
   ]
  },
  {
   "cell_type": "markdown",
   "metadata": {},
   "source": [
    "1. \"Modelowanie ruchu spadochroniarza\", praca semestralna, dyscyplina „Modelowanie matematyczne”, Białoruski Narodowy Uniwersytet Techniczny, Wydział Technologii Informacyjnych - Mińsk 2008 - https://topref.ru/referat/95026.html\n",
    "2. Wikipedia - https://pl.wikipedia.org/wiki/Wikipedia:Strona_g%C5%82%C3%B3wna"
   ]
  }
 ],
 "metadata": {
  "kernelspec": {
   "display_name": "Python 3 (ipykernel)",
   "language": "python",
   "name": "python3"
  },
  "language_info": {
   "codemirror_mode": {
    "name": "ipython",
    "version": 3
   },
   "file_extension": ".py",
   "mimetype": "text/x-python",
   "name": "python",
   "nbconvert_exporter": "python",
   "pygments_lexer": "ipython3",
   "version": "3.10.1"
  },
  "vscode": {
   "interpreter": {
    "hash": "afb734500600fd355917ca529030176ea0ca205570884b88f2f6f7d791fd3fbe"
   }
  }
 },
 "nbformat": 4,
 "nbformat_minor": 2
}
